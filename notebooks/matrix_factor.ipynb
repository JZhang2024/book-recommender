{
 "cells": [
  {
   "cell_type": "code",
   "execution_count": null,
   "metadata": {},
   "outputs": [],
   "source": [
    "# Book Recommendation System - Matrix Factorization Training"
   ]
  },
  {
   "cell_type": "code",
   "execution_count": null,
   "metadata": {},
   "outputs": [],
   "source": [
    "# Mount Google Drive\n",
    "from google.colab import drive\n",
    "drive.mount('/content/drive')"
   ]
  },
  {
   "cell_type": "code",
   "execution_count": null,
   "metadata": {},
   "outputs": [],
   "source": [
    "# Install required packages\n",
    "!pip install torch pandas scipy scikit-learn tqdm"
   ]
  },
  {
   "cell_type": "code",
   "execution_count": null,
   "metadata": {},
   "outputs": [],
   "source": [
    "# Set up project structure\n",
    "!mkdir -p src/models src/evaluation data/raw data/processed\n",
    "\n",
    "# Upload necessary files\n",
    "from google.colab import files\n",
    "\n",
    "print(\"Please upload matrix_factor_train.py\")\n",
    "uploaded = files.upload()\n",
    "!mv matrix_factor_train.py src/\n",
    "\n",
    "print(\"Please upload collaborative_filtering.py\")\n",
    "uploaded = files.upload()\n",
    "!mv collaborative_filtering.py src/models/\n",
    "\n",
    "print(\"Please upload metrics.py\")\n",
    "uploaded = files.upload()\n",
    "!mv metrics.py src/evaluation/\n",
    "\n",
    "print(\"Please upload config.py\")\n",
    "uploaded = files.upload()\n",
    "!mv config.py ./\n",
    "\n",
    "# Assuming your data files are in Google Drive\n",
    "# Adjust these paths as necessary\n",
    "DRIVE_PATH = \"/content/drive/MyDrive/book_recommendation_project\"\n",
    "!cp {DRIVE_PATH}/data/processed/* data/processed/\n",
    "\n",
    "# Display the project structure\n",
    "!tree -L 2"
   ]
  },
  {
   "cell_type": "code",
   "execution_count": null,
   "metadata": {},
   "outputs": [],
   "source": [
    "# Modify config.py to use the correct paths\n",
    "with open('config.py', 'r') as file:\n",
    "    config_content = file.read()\n",
    "\n",
    "config_content = config_content.replace(\"os.path.join(ROOT_DIR, 'data')\", \"'/content/data'\")\n",
    "\n",
    "with open('config.py', 'w') as file:\n",
    "    file.write(config_content)\n",
    "\n",
    "# Run the training script\n",
    "!python src/matrix_factor_train.py"
   ]
  }
 ],
 "metadata": {
  "language_info": {
   "name": "python"
  }
 },
 "nbformat": 4,
 "nbformat_minor": 2
}
